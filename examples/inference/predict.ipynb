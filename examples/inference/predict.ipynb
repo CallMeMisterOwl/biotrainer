{
 "cells": [
  {
   "cell_type": "markdown",
   "metadata": {},
   "source": [
    "After having trained a model, you can use the output.yml and an input sequence file to make predictions"
   ]
  },
  {
   "cell_type": "markdown",
   "metadata": {},
   "source": [
    "## IMPORTANT BEFORE YOU START\n",
    "\n",
    "The out config will contain absolute paths to directories. In other words: this notebook will likely work if you ran the training and notebook from the same environment (node, cluster or machine), but it will most likely fail to work if you move results from training to a different machine to perform inference/predictions. However, don't worry: there's an easy fix (see below)."
   ]
  },
  {
   "cell_type": "code",
   "execution_count": 1,
   "metadata": {
    "collapsed": false,
    "jupyter": {
     "outputs_hidden": false
    }
   },
   "outputs": [],
   "source": [
    "from biotrainer.utilities import read_config_file\n",
    "from biotrainer.inference import Inferencer"
   ]
  },
  {
   "cell_type": "code",
   "execution_count": 2,
   "metadata": {
    "collapsed": false,
    "jupyter": {
     "outputs_hidden": false
    }
   },
   "outputs": [],
   "source": [
    "out_config_path = '../residue_to_class/output/out.yml'\n",
    "out_config = read_config_file(out_config_path)"
   ]
  },
  {
   "cell_type": "markdown",
   "metadata": {},
   "source": [
    "Let's find out how well the model performs on the test set."
   ]
  },
  {
   "cell_type": "code",
   "execution_count": 3,
   "metadata": {
    "collapsed": false,
    "jupyter": {
     "outputs_hidden": false
    }
   },
   "outputs": [
    {
     "name": "stdout",
     "output_type": "stream",
     "text": [
      "For the CNN, the metrics on the test set are:\n",
      "\t- f1_score class 0 : 0.0\n",
      "\t- f1_score class 1 : 0.0\n",
      "\t- f1_score class 2 : 0.0\n",
      "\t- f1_score class 3 : 0.0\n",
      "\t- f1_score class 4 : 0.0\n",
      "\t- precission class 0 : 0.0\n",
      "\t- precission class 1 : 0.0\n",
      "\t- precission class 2 : 0.0\n",
      "\t- precission class 3 : 0.0\n",
      "\t- precission class 4 : 0.0\n",
      "\t- recall class 0 : 0.0\n",
      "\t- recall class 1 : 0.0\n",
      "\t- recall class 2 : 0.0\n",
      "\t- recall class 3 : 0.0\n",
      "\t- recall class 4 : 0.0\n",
      "\taccuracy : 0.0\n",
      "\tloss : 1.617287278175354\n",
      "\tmacro-f1_score : 0.0\n",
      "\tmacro-precision : 0.0\n",
      "\tmacro-recall : 0.0\n",
      "\tmatthews-corr-coeff : -0.3000600337982178\n",
      "\tmicro-f1_score : 0.0\n",
      "\tmicro-precision : 0.0\n",
      "\tmicro-recall : 0.0\n",
      "\tspearmans-corr-coeff : -0.14046210050582886\n"
     ]
    }
   ],
   "source": [
    "print(f\"For the {out_config['model_choice']}, the metrics on the test set are:\")\n",
    "for metric in out_config['test_iterations_results']['metrics']:\n",
    "    print(f\"\\t{metric} : {out_config['test_iterations_results']['metrics'][metric]}\")"
   ]
  },
  {
   "cell_type": "markdown",
   "metadata": {},
   "source": [
    "**Does the absolute path of the model look correct?**\n",
    "\n",
    "As stated above, the out.yml file will contain absolute paths to files and directories from the biotrainer run. If you move files between machines, these paths may get \"broken\". However, in order to fix this, you juse need to substitute the beginning of the path as stored in the outconfig with the location of where the results are stored now. This is fairly easy, an example is provided below, but needs to be adapted to **your local folder structure**!\n",
    "\n"
   ]
  },
  {
   "cell_type": "code",
   "execution_count": 4,
   "metadata": {
    "collapsed": false,
    "jupyter": {
     "outputs_hidden": false
    }
   },
   "outputs": [
    {
     "name": "stdout",
     "output_type": "stream",
     "text": [
      "Absolute path of biotrainer run output as from config: /home/sebie/PycharmProjects/biotrainerFork/examples/residue_to_class/output\n"
     ]
    }
   ],
   "source": [
    "print(f\"Absolute path of biotrainer run output as from config: {out_config['output_dir']}\")"
   ]
  },
  {
   "cell_type": "code",
   "execution_count": 5,
   "metadata": {
    "collapsed": false,
    "jupyter": {
     "outputs_hidden": false
    }
   },
   "outputs": [],
   "source": [
    "new_output_path_root = \"../examples/\"\n",
    "old_output_path_root = \"/mnt/home/cdallago/biotrainer/examples/\"\n",
    "\n",
    "for key in out_config:\n",
    "    if isinstance(out_config[key], str) and old_output_path_root in out_config[key]:\n",
    "        out_config[key] = out_config[key].replace(old_output_path_root, new_output_path_root)"
   ]
  },
  {
   "cell_type": "code",
   "execution_count": 6,
   "metadata": {
    "collapsed": false,
    "jupyter": {
     "outputs_hidden": false
    }
   },
   "outputs": [
    {
     "name": "stdout",
     "output_type": "stream",
     "text": [
      "Absolute path of biotrainer run output after swapping the root path: /home/sebie/PycharmProjects/biotrainerFork/examples/residue_to_class/output\n"
     ]
    }
   ],
   "source": [
    "print(f\"Absolute path of biotrainer run output after swapping the root path: {out_config['output_dir']}\")"
   ]
  },
  {
   "cell_type": "markdown",
   "metadata": {},
   "source": [
    "First we need to create the embeddings for the sequences we are interested in"
   ]
  },
  {
   "cell_type": "code",
   "execution_count": 7,
   "metadata": {
    "collapsed": false,
    "jupyter": {
     "outputs_hidden": false
    }
   },
   "outputs": [],
   "source": [
    "from bio_embeddings.embed import OneHotEncodingEmbedder"
   ]
  },
  {
   "cell_type": "code",
   "execution_count": 8,
   "metadata": {},
   "outputs": [],
   "source": [
    "embedder = OneHotEncodingEmbedder()"
   ]
  },
  {
   "cell_type": "code",
   "execution_count": 9,
   "metadata": {
    "collapsed": false,
    "jupyter": {
     "outputs_hidden": false
    }
   },
   "outputs": [],
   "source": [
    "sequences = [\n",
    "    \"PROVTEIN\",\n",
    "    \"SEQVENCESEQVENCE\"\n",
    "]"
   ]
  },
  {
   "cell_type": "code",
   "execution_count": 10,
   "metadata": {
    "collapsed": false,
    "jupyter": {
     "outputs_hidden": false
    }
   },
   "outputs": [],
   "source": [
    "embeddings = list(embedder.embed_many(sequences))\n",
    "# Note that for per-sequence embeddings, you would have to reduce the embeddings now:\n",
    "# embeddings = [[embedder.reduce_per_protein(embedding)] for embedding in embeddings]"
   ]
  },
  {
   "cell_type": "markdown",
   "metadata": {},
   "source": [
    "Next we generate an inference object from the out config of our training run"
   ]
  },
  {
   "cell_type": "code",
   "execution_count": 11,
   "metadata": {
    "collapsed": false,
    "jupyter": {
     "outputs_hidden": false
    }
   },
   "outputs": [
    {
     "name": "stdout",
     "output_type": "stream",
     "text": [
      "Got 1 split(s): hold_out\n"
     ]
    },
    {
     "name": "stderr",
     "output_type": "stream",
     "text": [
      "/home/sebie/anaconda3/envs/biotrainer/lib/python3.8/site-packages/torchmetrics/utilities/prints.py:36: UserWarning: Metric `SpearmanCorrcoef` will save all targets and predictions in the buffer. For large datasets, this may lead to large memory footprint.\n",
      "  warnings.warn(*args, **kwargs)\n"
     ]
    }
   ],
   "source": [
    "inferencer = Inferencer(**out_config)"
   ]
  },
  {
   "cell_type": "code",
   "execution_count": 12,
   "metadata": {
    "collapsed": false,
    "jupyter": {
     "outputs_hidden": false
    }
   },
   "outputs": [],
   "source": [
    "predictions = inferencer.from_embeddings(embeddings, split_name=\"hold_out\")"
   ]
  },
  {
   "cell_type": "markdown",
   "metadata": {},
   "source": [
    "We can inspect the predictions"
   ]
  },
  {
   "cell_type": "code",
   "execution_count": 13,
   "metadata": {
    "collapsed": false,
    "jupyter": {
     "outputs_hidden": false
    }
   },
   "outputs": [
    {
     "name": "stdout",
     "output_type": "stream",
     "text": [
      "PROVTEIN\n",
      "None\n",
      "SEQVENCESEQVENCE\n",
      "{'0': 'FFFDFDFF', '1': 'FFEFFFFFDEFFFFEF'}\n"
     ]
    }
   ],
   "source": [
    "for sequence, prediction in zip(sequences, predictions.values()):\n",
    "    print(sequence)\n",
    "    print(prediction)"
   ]
  },
  {
   "cell_type": "markdown",
   "source": [
    "**If your model uses dropout, you can also use inferencer.from_embeddings_with_monte_carlo_dropout to get the predictions with monte-carlo dropout. This is a method to quantify the uncertainty within your model.**"
   ],
   "metadata": {
    "collapsed": false
   }
  },
  {
   "cell_type": "code",
   "execution_count": 14,
   "metadata": {},
   "outputs": [],
   "source": [
    "predictions_mcd = inferencer.from_embeddings_with_monte_carlo_dropout(embeddings, n_forward_passes=30, confidence_level=0.05, split_name=\"hold_out\")"
   ]
  },
  {
   "cell_type": "code",
   "execution_count": 16,
   "outputs": [
    {
     "name": "stdout",
     "output_type": "stream",
     "text": [
      "Residue: P, MCD Prediction: {'prediction': 'F', 'mcd_mean': tensor([0.1800, 0.2024, 0.2106, 0.2173, 0.1897]), 'mcd_lower_bound': tensor([0.1788, 0.2015, 0.2093, 0.2159, 0.1884]), 'mcd_upper_bound': tensor([0.1812, 0.2033, 0.2118, 0.2188, 0.1910])}\n",
      "Residue: R, MCD Prediction: {'prediction': 'F', 'mcd_mean': tensor([0.1844, 0.2049, 0.2002, 0.2186, 0.1919]), 'mcd_lower_bound': tensor([0.1831, 0.2037, 0.1988, 0.2174, 0.1907]), 'mcd_upper_bound': tensor([0.1858, 0.2062, 0.2015, 0.2198, 0.1931])}\n",
      "Residue: O, MCD Prediction: {'prediction': 'F', 'mcd_mean': tensor([0.1966, 0.2042, 0.1946, 0.2105, 0.1940]), 'mcd_lower_bound': tensor([0.1954, 0.2028, 0.1932, 0.2092, 0.1928]), 'mcd_upper_bound': tensor([0.1979, 0.2056, 0.1961, 0.2119, 0.1952])}\n",
      "Residue: V, MCD Prediction: {'prediction': 'D', 'mcd_mean': tensor([0.1924, 0.2105, 0.2058, 0.2018, 0.1894]), 'mcd_lower_bound': tensor([0.1909, 0.2078, 0.2035, 0.2000, 0.1880]), 'mcd_upper_bound': tensor([0.1940, 0.2132, 0.2082, 0.2036, 0.1908])}\n",
      "Residue: T, MCD Prediction: {'prediction': 'F', 'mcd_mean': tensor([0.1889, 0.2064, 0.1968, 0.2096, 0.1983]), 'mcd_lower_bound': tensor([0.1876, 0.2049, 0.1955, 0.2079, 0.1966]), 'mcd_upper_bound': tensor([0.1901, 0.2079, 0.1981, 0.2113, 0.2000])}\n",
      "Residue: E, MCD Prediction: {'prediction': 'D', 'mcd_mean': tensor([0.1995, 0.2045, 0.2013, 0.2016, 0.1931]), 'mcd_lower_bound': tensor([0.1979, 0.2027, 0.1996, 0.1996, 0.1917]), 'mcd_upper_bound': tensor([0.2012, 0.2062, 0.2030, 0.2036, 0.1945])}\n",
      "Residue: I, MCD Prediction: {'prediction': 'F', 'mcd_mean': tensor([0.1885, 0.2060, 0.2109, 0.2136, 0.1809]), 'mcd_lower_bound': tensor([0.1870, 0.2044, 0.2087, 0.2119, 0.1796]), 'mcd_upper_bound': tensor([0.1901, 0.2076, 0.2130, 0.2154, 0.1823])}\n",
      "Residue: N, MCD Prediction: {'prediction': 'F', 'mcd_mean': tensor([0.1856, 0.1896, 0.2039, 0.2277, 0.1932]), 'mcd_lower_bound': tensor([0.1845, 0.1880, 0.2024, 0.2260, 0.1917]), 'mcd_upper_bound': tensor([0.1868, 0.1912, 0.2054, 0.2293, 0.1947])}\n"
     ]
    }
   ],
   "source": [
    "# Show predictions for first sequence:\n",
    "for idx, residue in enumerate(sequences[0]):\n",
    "    print(f\"Residue: {residue}, MCD Prediction: {predictions_mcd['0'][idx]}\")\n",
    "    # prediction: Class prediction based on the mean over 30 forward passes\n",
    "    # mcd_mean: Average over 30 forward passes\n",
    "    # mcd_lower_bound: Lower bound of confidence interval using normal distribution with the given confidence level\n",
    "    # mcd_upper_bound: Upper bound of confidence interval using normal distribution with the given confidence level"
   ],
   "metadata": {
    "collapsed": false
   }
  },
  {
   "cell_type": "code",
   "execution_count": null,
   "outputs": [],
   "source": [],
   "metadata": {
    "collapsed": false
   }
  }
 ],
 "metadata": {
  "kernelspec": {
   "display_name": "Python 3",
   "language": "python",
   "name": "python3"
  },
  "language_info": {
   "codemirror_mode": {
    "name": "ipython",
    "version": 3
   },
   "file_extension": ".py",
   "mimetype": "text/x-python",
   "name": "python",
   "nbconvert_exporter": "python",
   "pygments_lexer": "ipython3",
   "version": "3.8.0"
  }
 },
 "nbformat": 4,
 "nbformat_minor": 4
}
